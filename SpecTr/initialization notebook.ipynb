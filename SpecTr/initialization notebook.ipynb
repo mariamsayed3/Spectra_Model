{
 "cells": [
  {
   "cell_type": "code",
   "execution_count": 5,
   "metadata": {},
   "outputs": [
    {
     "name": "stdout",
     "output_type": "stream",
     "text": [
      "Note: you may need to restart the kernel to use updated packages.\n"
     ]
    }
   ],
   "source": [
    "%pip -q install einops"
   ]
  },
  {
   "cell_type": "code",
   "execution_count": 6,
   "metadata": {},
   "outputs": [
    {
     "name": "stdout",
     "output_type": "stream",
     "text": [
      "Note: you may need to restart the kernel to use updated packages.\n"
     ]
    }
   ],
   "source": [
    "%pip -q install segmentation_models_pytorch"
   ]
  },
  {
   "cell_type": "code",
   "execution_count": 3,
   "metadata": {},
   "outputs": [
    {
     "name": "stderr",
     "output_type": "stream",
     "text": [
      "Cloning into 'SpecTr'...\n",
      "Updating files:   7% (7/89)\n",
      "Updating files:   8% (8/89)\n",
      "Updating files:  10% (9/89)\n",
      "Updating files:  11% (10/89)\n",
      "Updating files:  12% (11/89)\n",
      "Updating files:  13% (12/89)\n",
      "Updating files:  14% (13/89)\n",
      "Updating files:  15% (14/89)\n",
      "Updating files:  16% (15/89)\n",
      "Updating files:  17% (16/89)\n",
      "Updating files:  19% (17/89)\n",
      "Updating files:  20% (18/89)\n",
      "Updating files:  21% (19/89)\n",
      "Updating files:  22% (20/89)\n",
      "Updating files:  23% (21/89)\n",
      "Updating files:  24% (22/89)\n",
      "Updating files:  25% (23/89)\n",
      "Updating files:  26% (24/89)\n",
      "Updating files:  28% (25/89)\n",
      "Updating files:  29% (26/89)\n",
      "Updating files:  30% (27/89)\n",
      "Updating files:  31% (28/89)\n",
      "Updating files:  32% (29/89)\n",
      "Updating files:  33% (30/89)\n",
      "Updating files:  34% (31/89)\n",
      "Updating files:  35% (32/89)\n",
      "Updating files:  37% (33/89)\n",
      "Updating files:  38% (34/89)\n",
      "Updating files:  39% (35/89)\n",
      "Updating files:  40% (36/89)\n",
      "Updating files:  41% (37/89)\n",
      "Updating files:  42% (38/89)\n",
      "Updating files:  43% (39/89)\n",
      "Updating files:  44% (40/89)\n",
      "Updating files:  46% (41/89)\n",
      "Updating files:  47% (42/89)\n",
      "Updating files:  48% (43/89)\n",
      "Updating files:  49% (44/89)\n",
      "Updating files:  50% (45/89)\n",
      "Updating files:  51% (46/89)\n",
      "Updating files:  52% (47/89)\n",
      "Updating files:  53% (48/89)\n",
      "Updating files:  55% (49/89)\n",
      "Updating files:  56% (50/89)\n",
      "Updating files:  57% (51/89)\n",
      "Updating files:  58% (52/89)\n",
      "Updating files:  59% (53/89)\n",
      "Updating files:  60% (54/89)\n",
      "Updating files:  61% (55/89)\n",
      "Updating files:  62% (56/89)\n",
      "Updating files:  64% (57/89)\n",
      "Updating files:  65% (58/89)\n",
      "Updating files:  66% (59/89)\n",
      "Updating files:  67% (60/89)\n",
      "Updating files:  68% (61/89)\n",
      "Updating files:  69% (62/89)\n",
      "Updating files:  70% (63/89)\n",
      "Updating files:  71% (64/89)\n",
      "Updating files:  73% (65/89)\n",
      "Updating files:  74% (66/89)\n",
      "Updating files:  75% (67/89)\n",
      "Updating files:  76% (68/89)\n",
      "Updating files:  77% (69/89)\n",
      "Updating files:  78% (70/89)\n",
      "Updating files:  79% (71/89)\n",
      "Updating files:  80% (72/89)\n",
      "Updating files:  82% (73/89)\n",
      "Updating files:  83% (74/89)\n",
      "Updating files:  84% (75/89)\n",
      "Updating files:  85% (76/89)\n",
      "Updating files:  86% (77/89)\n",
      "Updating files:  87% (78/89)\n",
      "Updating files:  88% (79/89)\n",
      "Updating files:  89% (80/89)\n",
      "Updating files:  91% (81/89)\n",
      "Updating files:  92% (82/89)\n",
      "Updating files:  93% (83/89)\n",
      "Updating files:  94% (84/89)\n",
      "Updating files:  95% (85/89)\n",
      "Updating files:  96% (86/89)\n",
      "Updating files:  97% (87/89)\n",
      "Updating files:  98% (88/89)\n",
      "Updating files: 100% (89/89)\n",
      "Updating files: 100% (89/89), done.\n"
     ]
    }
   ],
   "source": [
    "!git clone https://github.com/ligtexpe45/SpecTr"
   ]
  },
  {
   "cell_type": "code",
   "execution_count": 7,
   "metadata": {},
   "outputs": [
    {
     "name": "stdout",
     "output_type": "stream",
     "text": [
      "Note: you may need to restart the kernel to use updated packages.\n",
      "Note: you may need to restart the kernel to use updated packages.\n",
      "Note: you may need to restart the kernel to use updated packages.\n",
      "Note: you may need to restart the kernel to use updated packages.\n",
      "Note: you may need to restart the kernel to use updated packages.\n",
      "Note: you may need to restart the kernel to use updated packages.\n"
     ]
    }
   ],
   "source": [
    "%pip -q install scikit-image\n",
    "%pip -q install scikit-learn\n",
    "%pip -q install opencv-python\n",
    "%pip -q install spectral\n",
    "%pip -q install scipy\n",
    "%pip -q install tifffile"
   ]
  },
  {
   "cell_type": "code",
   "execution_count": 8,
   "metadata": {},
   "outputs": [
    {
     "name": "stdout",
     "output_type": "stream",
     "text": [
      "Note: you may need to restart the kernel to use updated packages.\n"
     ]
    }
   ],
   "source": [
    "%pip -q install scikit-learn"
   ]
  },
  {
   "cell_type": "code",
   "execution_count": 9,
   "metadata": {},
   "outputs": [
    {
     "name": "stdout",
     "output_type": "stream",
     "text": [
      "Note: you may need to restart the kernel to use updated packages.\n"
     ]
    }
   ],
   "source": [
    "%pip -q install albumentations"
   ]
  },
  {
   "cell_type": "code",
   "execution_count": 8,
   "metadata": {},
   "outputs": [
    {
     "name": "stdout",
     "output_type": "stream",
     "text": [
      "Note: you may need to restart the kernel to use updated packages.\n",
      "Note: you may need to restart the kernel to use updated packages.\n"
     ]
    }
   ],
   "source": [
    "%pip -q install torch\n",
    "%pip -q install pandas "
   ]
  },
  {
   "cell_type": "code",
   "execution_count": 9,
   "metadata": {},
   "outputs": [
    {
     "ename": "FileNotFoundError",
     "evalue": "[WinError 2] The system cannot find the file specified: 'SpecTr'",
     "output_type": "error",
     "traceback": [
      "\u001b[1;31m---------------------------------------------------------------------------\u001b[0m",
      "\u001b[1;31mFileNotFoundError\u001b[0m                         Traceback (most recent call last)",
      "Cell \u001b[1;32mIn[9], line 2\u001b[0m\n\u001b[0;32m      1\u001b[0m \u001b[38;5;28;01mimport\u001b[39;00m \u001b[38;5;21;01mos\u001b[39;00m\n\u001b[1;32m----> 2\u001b[0m \u001b[43mos\u001b[49m\u001b[38;5;241;43m.\u001b[39;49m\u001b[43mchdir\u001b[49m\u001b[43m(\u001b[49m\u001b[38;5;124;43m\"\u001b[39;49m\u001b[38;5;124;43mSpecTr\u001b[39;49m\u001b[38;5;124;43m\"\u001b[39;49m\u001b[43m)\u001b[49m\n",
      "\u001b[1;31mFileNotFoundError\u001b[0m: [WinError 2] The system cannot find the file specified: 'SpecTr'"
     ]
    }
   ],
   "source": [
    "import os\n",
    "os.chdir(\"SpecTr\")"
   ]
  },
  {
   "cell_type": "code",
   "execution_count": 10,
   "metadata": {},
   "outputs": [
    {
     "name": "stdout",
     "output_type": "stream",
     "text": [
      "env: CUDA_VISIBLE_DEVICES=0\n"
     ]
    },
    {
     "name": "stderr",
     "output_type": "stream",
     "text": [
      "Traceback (most recent call last):\n",
      "  File \"c:\\Users\\maria\\OneDrive\\Documents\\New_Masters_Plan\\New_Models\\Spectr\\SpecTr\\code\\train_main.py\", line 8, in <module>\n",
      "    import torch\n",
      "ModuleNotFoundError: No module named 'torch'\n"
     ]
    }
   ],
   "source": [
    "# Set CUDA_VISIBLE_DEVICES\n",
    "%env CUDA_VISIBLE_DEVICES=0\n",
    "# Run Python script\n",
    "!\"C:\\Users\\maria\\AppData\\Local\\Programs\\Python\\Python310\\python.exe\" code/train_main.py -r /kaggle/input/odsi-db/dataset -dd 'C:\\Users\\maria\\OneDrive\\Documents\\New_Masters_Plan\\New_Models\\Spectr\\SpecTr\\four_folds_dental.json' -sn 51 -cut 50 -e 20 -b 8 -c 36 --dataset dental\n"
   ]
  },
  {
   "cell_type": "code",
   "execution_count": 11,
   "metadata": {},
   "outputs": [
    {
     "name": "stdout",
     "output_type": "stream",
     "text": [
      "env: CUDA_VISIBLE_DEVICES=0\n",
      "train_fold is [2, 3, 4] and valid_fold is 1\n",
      "now start train ..\n",
      "epoch 1/20, LR:0.0003\n"
     ]
    },
    {
     "name": "stderr",
     "output_type": "stream",
     "text": [
      "\n",
      "  0%|          | 0/21 [00:00<?, ?it/s]ERROR:albumentations.check_version:Error fetching version info\n",
      "Traceback (most recent call last):\n",
      "  File \"C:\\Users\\maria\\AppData\\Local\\Programs\\Python\\Python310\\lib\\urllib\\request.py\", line 1348, in do_open\n",
      "    h.request(req.get_method(), req.selector, req.data, headers,\n",
      "  File \"C:\\Users\\maria\\AppData\\Local\\Programs\\Python\\Python310\\lib\\http\\client.py\", line 1282, in request\n",
      "    self._send_request(method, url, body, headers, encode_chunked)\n",
      "  File \"C:\\Users\\maria\\AppData\\Local\\Programs\\Python\\Python310\\lib\\http\\client.py\", line 1328, in _send_request\n",
      "    self.endheaders(body, encode_chunked=encode_chunked)\n",
      "  File \"C:\\Users\\maria\\AppData\\Local\\Programs\\Python\\Python310\\lib\\http\\client.py\", line 1277, in endheaders\n",
      "    self._send_output(message_body, encode_chunked=encode_chunked)\n",
      "  File \"C:\\Users\\maria\\AppData\\Local\\Programs\\Python\\Python310\\lib\\http\\client.py\", line 1037, in _send_output\n",
      "    self.send(msg)\n",
      "  File \"C:\\Users\\maria\\AppData\\Local\\Programs\\Python\\Python310\\lib\\http\\client.py\", line 975, in send\n",
      "    self.connect()\n",
      "  File \"C:\\Users\\maria\\AppData\\Local\\Programs\\Python\\Python310\\lib\\http\\client.py\", line 1454, in connect\n",
      "    self.sock = self._context.wrap_socket(self.sock,\n",
      "  File \"C:\\Users\\maria\\AppData\\Local\\Programs\\Python\\Python310\\lib\\ssl.py\", line 512, in wrap_socket\n",
      "    return self.sslsocket_class._create(\n",
      "  File \"C:\\Users\\maria\\AppData\\Local\\Programs\\Python\\Python310\\lib\\ssl.py\", line 1070, in _create\n",
      "    self.do_handshake()\n",
      "  File \"C:\\Users\\maria\\AppData\\Local\\Programs\\Python\\Python310\\lib\\ssl.py\", line 1341, in do_handshake\n",
      "    self._sslobj.do_handshake()\n",
      "TimeoutError: _ssl.c:980: The handshake operation timed out\n",
      "\n",
      "During handling of the above exception, another exception occurred:\n",
      "\n",
      "Traceback (most recent call last):\n",
      "  File \"c:\\Users\\maria\\OneDrive\\Documents\\New_Masters_Plan\\New_Models\\Spectr\\.venv\\lib\\site-packages\\albumentations\\check_version.py\", line 29, in fetch_version_info\n",
      "    with opener.open(url, timeout=2) as response:\n",
      "  File \"C:\\Users\\maria\\AppData\\Local\\Programs\\Python\\Python310\\lib\\urllib\\request.py\", line 519, in open\n",
      "    response = self._open(req, data)\n",
      "  File \"C:\\Users\\maria\\AppData\\Local\\Programs\\Python\\Python310\\lib\\urllib\\request.py\", line 536, in _open\n",
      "    result = self._call_chain(self.handle_open, protocol, protocol +\n",
      "  File \"C:\\Users\\maria\\AppData\\Local\\Programs\\Python\\Python310\\lib\\urllib\\request.py\", line 496, in _call_chain\n",
      "    result = func(*args)\n",
      "  File \"C:\\Users\\maria\\AppData\\Local\\Programs\\Python\\Python310\\lib\\urllib\\request.py\", line 1391, in https_open\n",
      "    return self.do_open(http.client.HTTPSConnection, req,\n",
      "  File \"C:\\Users\\maria\\AppData\\Local\\Programs\\Python\\Python310\\lib\\urllib\\request.py\", line 1351, in do_open\n",
      "    raise URLError(err)\n",
      "urllib.error.URLError: <urlopen error _ssl.c:980: The handshake operation timed out>\n",
      "\n",
      "  0%|          | 0/21 [01:22<?, ?it/s]\n",
      "Traceback (most recent call last):\n",
      "  File \"c:\\Users\\maria\\OneDrive\\Documents\\New_Masters_Plan\\New_Models\\Spectr\\SpecTr\\code\\train_main.py\", line 342, in <module>\n",
      "    main(args)\n",
      "  File \"c:\\Users\\maria\\OneDrive\\Documents\\New_Masters_Plan\\New_Models\\Spectr\\SpecTr\\code\\train_main.py\", line 166, in main\n",
      "    for idx, sample in enumerate(tqdm(train_loader)):\n",
      "  File \"c:\\Users\\maria\\OneDrive\\Documents\\New_Masters_Plan\\New_Models\\Spectr\\.venv\\lib\\site-packages\\tqdm\\std.py\", line 1181, in __iter__\n",
      "    for obj in iterable:\n",
      "  File \"c:\\Users\\maria\\OneDrive\\Documents\\New_Masters_Plan\\New_Models\\Spectr\\.venv\\lib\\site-packages\\torch\\utils\\data\\dataloader.py\", line 631, in __next__\n",
      "    data = self._next_data()\n",
      "  File \"c:\\Users\\maria\\OneDrive\\Documents\\New_Masters_Plan\\New_Models\\Spectr\\.venv\\lib\\site-packages\\torch\\utils\\data\\dataloader.py\", line 1346, in _next_data\n",
      "    return self._process_data(data)\n",
      "  File \"c:\\Users\\maria\\OneDrive\\Documents\\New_Masters_Plan\\New_Models\\Spectr\\.venv\\lib\\site-packages\\torch\\utils\\data\\dataloader.py\", line 1372, in _process_data\n",
      "    data.reraise()\n",
      "  File \"c:\\Users\\maria\\OneDrive\\Documents\\New_Masters_Plan\\New_Models\\Spectr\\.venv\\lib\\site-packages\\torch\\_utils.py\", line 705, in reraise\n",
      "    raise exception\n",
      "FileNotFoundError: Caught FileNotFoundError in DataLoader worker process 0.\n",
      "Original Traceback (most recent call last):\n",
      "  File \"c:\\Users\\maria\\OneDrive\\Documents\\New_Masters_Plan\\New_Models\\Spectr\\.venv\\lib\\site-packages\\torch\\utils\\data\\_utils\\worker.py\", line 308, in _worker_loop\n",
      "    data = fetcher.fetch(index)  # type: ignore[possibly-undefined]\n",
      "  File \"c:\\Users\\maria\\OneDrive\\Documents\\New_Masters_Plan\\New_Models\\Spectr\\.venv\\lib\\site-packages\\torch\\utils\\data\\_utils\\fetch.py\", line 51, in fetch\n",
      "    data = [self.dataset[idx] for idx in possibly_batched_index]\n",
      "  File \"c:\\Users\\maria\\OneDrive\\Documents\\New_Masters_Plan\\New_Models\\Spectr\\.venv\\lib\\site-packages\\torch\\utils\\data\\_utils\\fetch.py\", line 51, in <listcomp>\n",
      "    data = [self.dataset[idx] for idx in possibly_batched_index]\n",
      "  File \"c:\\Users\\maria\\OneDrive\\Documents\\New_Masters_Plan\\New_Models\\Spectr\\SpecTr\\code\\Data_Generate.py\", line 49, in __getitem__\n",
      "    masks = tiff.read_mtiff(mask_path)\n",
      "  File \"c:\\Users\\maria\\OneDrive\\Documents\\New_Masters_Plan\\New_Models\\Spectr\\SpecTr\\code\\tiff.py\", line 254, in read_mtiff\n",
      "    with TiffFile(filename) as tiff:\n",
      "  File \"c:\\Users\\maria\\OneDrive\\Documents\\New_Masters_Plan\\New_Models\\Spectr\\.venv\\lib\\site-packages\\tifffile\\tifffile.py\", line 4247, in __init__\n",
      "    fh = FileHandle(file, mode=mode, name=name, offset=offset, size=size)\n",
      "  File \"c:\\Users\\maria\\OneDrive\\Documents\\New_Masters_Plan\\New_Models\\Spectr\\.venv\\lib\\site-packages\\tifffile\\tifffile.py\", line 14612, in __init__\n",
      "    self.open()\n",
      "  File \"c:\\Users\\maria\\OneDrive\\Documents\\New_Masters_Plan\\New_Models\\Spectr\\.venv\\lib\\site-packages\\tifffile\\tifffile.py\", line 14631, in open\n",
      "    self._fh = open(\n",
      "FileNotFoundError: [Errno 2] No such file or directory: 'C:\\\\kaggle\\\\input\\\\odsi-db\\\\dataset\\\\e9f548f5_front_1_masks.tif'\n",
      "\n"
     ]
    }
   ],
   "source": [
    "# Set CUDA_VISIBLE_DEVICES\n",
    "%env CUDA_VISIBLE_DEVICES=0\n",
    "\n",
    "# Run Python script with corrected path\n",
    "!\"c:/Users/maria/OneDrive/Documents/New_Masters_Plan/New_Models/Spectr/.venv/Scripts/python.exe\" code/train_main.py -r /kaggle/input/odsi-db/dataset -dd \"C:\\Users\\maria\\OneDrive\\Documents\\New_Masters_Plan\\New_Models\\Spectr\\SpecTr\\four_folds_dental.json\" -sn 51 -cut 50 -e 20 -b 8 -c 36 --dataset dental\n"
   ]
  },
  {
   "cell_type": "code",
   "execution_count": 7,
   "metadata": {},
   "outputs": [
    {
     "name": "stdout",
     "output_type": "stream",
     "text": [
      "env: CUDA_VISIBLE_DEVICES=0\n"
     ]
    }
   ],
   "source": [
    "# Set CUDA_VISIBLE_DEVICES\n",
    "%env CUDA_VISIBLE_DEVICES=0\n",
    "\n",
    "# Run Python script with corrected path\n",
    "!\"c:/Users/maria/OneDrive/Documents/New_Masters_Plan/New_Models/Spectr/.venv/Scripts/python.exe\" code/train_main.py -r \"C:\\Users\\maria\\OneDrive\\Documents\\New_Masters_Plan\\New_Models\\Spectr\\SpecTr\\bioDataset\" -dd \"C:\\Users\\maria\\OneDrive\\Documents\\New_Masters_Plan\\New_Models\\Spectr\\SpecTr\\four_folds_bio.json\" -sn 9718 -cut 5 -e 5 -b 1 -c 5 --dataset bio\n"
   ]
  },
  {
   "cell_type": "code",
   "execution_count": 11,
   "metadata": {},
   "outputs": [
    {
     "name": "stdout",
     "output_type": "stream",
     "text": [
      "File exists\n"
     ]
    }
   ],
   "source": [
    "import os\n",
    "\n",
    "file_path = r\"C:\\Users\\maria\\OneDrive\\Documents\\New_Masters_Plan\\New_Models\\Spectr\\SpecTr\\bioDataset\\cell_type_matrix7_masks.npy\"\n",
    "\n",
    "# Check if the file exists\n",
    "if os.path.exists(file_path):\n",
    "    print(\"File exists\")\n",
    "else:\n",
    "    print(\"File does not exist\")\n"
   ]
  },
  {
   "cell_type": "code",
   "execution_count": 2,
   "metadata": {},
   "outputs": [
    {
     "name": "stdout",
     "output_type": "stream",
     "text": [
      "hello\n"
     ]
    }
   ],
   "source": [
    "if \"cell_type\" in \"cell_type_matrix7_masks.npy\":\n",
    "    print(\"hello\")"
   ]
  },
  {
   "cell_type": "code",
   "execution_count": 1,
   "metadata": {},
   "outputs": [
    {
     "name": "stdout",
     "output_type": "stream",
     "text": [
      "Name: torch\n",
      "Version: 2.3.1+cu121\n",
      "Summary: Tensors and Dynamic neural networks in Python with strong GPU acceleration\n",
      "Home-page: https://pytorch.org/\n",
      "Author: PyTorch Team\n",
      "Author-email: packages@pytorch.org\n",
      "License: BSD-3\n",
      "Location: c:\\users\\maria\\myenv2\\lib\\site-packages\n",
      "Requires: filelock, fsspec, jinja2, mkl, networkx, sympy, typing-extensions\n",
      "Required-by: efficientnet_pytorch, pretrainedmodels, timm, torchaudio, torchvision\n"
     ]
    }
   ],
   "source": [
    "!python -m pip show torch"
   ]
  },
  {
   "cell_type": "code",
   "execution_count": 1,
   "metadata": {},
   "outputs": [
    {
     "name": "stdout",
     "output_type": "stream",
     "text": [
      "Requirement already satisfied: torch in c:\\users\\maria\\myenv2\\lib\\site-packages (2.3.1+cu121)\n",
      "Requirement already satisfied: torchvision in c:\\users\\maria\\myenv2\\lib\\site-packages (0.18.1+cu121)\n",
      "Requirement already satisfied: torchaudio in c:\\users\\maria\\myenv2\\lib\\site-packages (2.3.1+cu121)\n",
      "Requirement already satisfied: filelock in c:\\users\\maria\\myenv2\\lib\\site-packages (from torch) (3.13.1)\n",
      "Requirement already satisfied: typing-extensions>=4.8.0 in c:\\users\\maria\\myenv2\\lib\\site-packages (from torch) (4.9.0)\n",
      "Requirement already satisfied: sympy in c:\\users\\maria\\myenv2\\lib\\site-packages (from torch) (1.12)\n",
      "Requirement already satisfied: networkx in c:\\users\\maria\\myenv2\\lib\\site-packages (from torch) (3.2.1)\n",
      "Requirement already satisfied: jinja2 in c:\\users\\maria\\myenv2\\lib\\site-packages (from torch) (3.1.3)\n",
      "Requirement already satisfied: fsspec in c:\\users\\maria\\myenv2\\lib\\site-packages (from torch) (2024.2.0)\n",
      "Requirement already satisfied: mkl<=2021.4.0,>=2021.1.1 in c:\\users\\maria\\myenv2\\lib\\site-packages (from torch) (2021.4.0)\n",
      "Requirement already satisfied: numpy in c:\\users\\maria\\myenv2\\lib\\site-packages (from torchvision) (1.26.3)\n",
      "Requirement already satisfied: pillow!=8.3.*,>=5.3.0 in c:\\users\\maria\\myenv2\\lib\\site-packages (from torchvision) (10.2.0)\n",
      "Requirement already satisfied: intel-openmp==2021.* in c:\\users\\maria\\myenv2\\lib\\site-packages (from mkl<=2021.4.0,>=2021.1.1->torch) (2021.4.0)\n",
      "Requirement already satisfied: tbb==2021.* in c:\\users\\maria\\myenv2\\lib\\site-packages (from mkl<=2021.4.0,>=2021.1.1->torch) (2021.11.0)\n",
      "Requirement already satisfied: MarkupSafe>=2.0 in c:\\users\\maria\\myenv2\\lib\\site-packages (from jinja2->torch) (2.1.5)\n",
      "Requirement already satisfied: mpmath>=0.19 in c:\\users\\maria\\myenv2\\lib\\site-packages (from sympy->torch) (1.3.0)\n",
      "Note: you may need to restart the kernel to use updated packages.\n"
     ]
    }
   ],
   "source": [
    "%pip install torch torchvision torchaudio"
   ]
  },
  {
   "cell_type": "code",
   "execution_count": 2,
   "metadata": {},
   "outputs": [
    {
     "name": "stdout",
     "output_type": "stream",
     "text": [
      "Requirement already satisfied: torch in c:\\users\\maria\\myenv2\\lib\\site-packages (2.3.1+cu121)\n",
      "Requirement already satisfied: filelock in c:\\users\\maria\\myenv2\\lib\\site-packages (from torch) (3.13.1)\n",
      "Requirement already satisfied: typing-extensions>=4.8.0 in c:\\users\\maria\\myenv2\\lib\\site-packages (from torch) (4.9.0)\n",
      "Requirement already satisfied: sympy in c:\\users\\maria\\myenv2\\lib\\site-packages (from torch) (1.12)\n",
      "Requirement already satisfied: networkx in c:\\users\\maria\\myenv2\\lib\\site-packages (from torch) (3.2.1)\n",
      "Requirement already satisfied: jinja2 in c:\\users\\maria\\myenv2\\lib\\site-packages (from torch) (3.1.3)\n",
      "Requirement already satisfied: fsspec in c:\\users\\maria\\myenv2\\lib\\site-packages (from torch) (2024.2.0)\n",
      "Requirement already satisfied: mkl<=2021.4.0,>=2021.1.1 in c:\\users\\maria\\myenv2\\lib\\site-packages (from torch) (2021.4.0)\n",
      "Requirement already satisfied: intel-openmp==2021.* in c:\\users\\maria\\myenv2\\lib\\site-packages (from mkl<=2021.4.0,>=2021.1.1->torch) (2021.4.0)\n",
      "Requirement already satisfied: tbb==2021.* in c:\\users\\maria\\myenv2\\lib\\site-packages (from mkl<=2021.4.0,>=2021.1.1->torch) (2021.11.0)\n",
      "Requirement already satisfied: MarkupSafe>=2.0 in c:\\users\\maria\\myenv2\\lib\\site-packages (from jinja2->torch) (2.1.5)\n",
      "Requirement already satisfied: mpmath>=0.19 in c:\\users\\maria\\myenv2\\lib\\site-packages (from sympy->torch) (1.3.0)\n",
      "Note: you may need to restart the kernel to use updated packages.\n",
      "Requirement already satisfied: torchvision in c:\\users\\maria\\myenv2\\lib\\site-packages (0.18.1+cu121)\n",
      "Requirement already satisfied: numpy in c:\\users\\maria\\myenv2\\lib\\site-packages (from torchvision) (1.26.3)\n",
      "Requirement already satisfied: torch==2.3.1+cu121 in c:\\users\\maria\\myenv2\\lib\\site-packages (from torchvision) (2.3.1+cu121)\n",
      "Requirement already satisfied: pillow!=8.3.*,>=5.3.0 in c:\\users\\maria\\myenv2\\lib\\site-packages (from torchvision) (10.2.0)\n",
      "Requirement already satisfied: filelock in c:\\users\\maria\\myenv2\\lib\\site-packages (from torch==2.3.1+cu121->torchvision) (3.13.1)\n",
      "Requirement already satisfied: typing-extensions>=4.8.0 in c:\\users\\maria\\myenv2\\lib\\site-packages (from torch==2.3.1+cu121->torchvision) (4.9.0)\n",
      "Requirement already satisfied: sympy in c:\\users\\maria\\myenv2\\lib\\site-packages (from torch==2.3.1+cu121->torchvision) (1.12)\n",
      "Requirement already satisfied: networkx in c:\\users\\maria\\myenv2\\lib\\site-packages (from torch==2.3.1+cu121->torchvision) (3.2.1)\n",
      "Requirement already satisfied: jinja2 in c:\\users\\maria\\myenv2\\lib\\site-packages (from torch==2.3.1+cu121->torchvision) (3.1.3)\n",
      "Requirement already satisfied: fsspec in c:\\users\\maria\\myenv2\\lib\\site-packages (from torch==2.3.1+cu121->torchvision) (2024.2.0)\n",
      "Requirement already satisfied: mkl<=2021.4.0,>=2021.1.1 in c:\\users\\maria\\myenv2\\lib\\site-packages (from torch==2.3.1+cu121->torchvision) (2021.4.0)\n",
      "Requirement already satisfied: intel-openmp==2021.* in c:\\users\\maria\\myenv2\\lib\\site-packages (from mkl<=2021.4.0,>=2021.1.1->torch==2.3.1+cu121->torchvision) (2021.4.0)\n",
      "Requirement already satisfied: tbb==2021.* in c:\\users\\maria\\myenv2\\lib\\site-packages (from mkl<=2021.4.0,>=2021.1.1->torch==2.3.1+cu121->torchvision) (2021.11.0)\n",
      "Requirement already satisfied: MarkupSafe>=2.0 in c:\\users\\maria\\myenv2\\lib\\site-packages (from jinja2->torch==2.3.1+cu121->torchvision) (2.1.5)\n",
      "Requirement already satisfied: mpmath>=0.19 in c:\\users\\maria\\myenv2\\lib\\site-packages (from sympy->torch==2.3.1+cu121->torchvision) (1.3.0)\n",
      "Note: you may need to restart the kernel to use updated packages.\n"
     ]
    }
   ],
   "source": [
    "%pip install torch\n",
    "%pip install torchvision \n"
   ]
  },
  {
   "cell_type": "code",
   "execution_count": 2,
   "metadata": {},
   "outputs": [
    {
     "name": "stdout",
     "output_type": "stream",
     "text": [
      "2.3.1+cu121\n"
     ]
    }
   ],
   "source": [
    "import torch\n",
    "print(torch.__version__)"
   ]
  },
  {
   "cell_type": "code",
   "execution_count": 1,
   "metadata": {},
   "outputs": [
    {
     "name": "stdout",
     "output_type": "stream",
     "text": [
      "CUDA is available!\n",
      "CUDA version: 12.1\n",
      "Device count: 1\n",
      "Current device: 0\n",
      "Device name: NVIDIA GeForce MX250\n"
     ]
    }
   ],
   "source": [
    "import torch\n",
    "\n",
    "if torch.cuda.is_available():\n",
    "    print(\"CUDA is available!\")\n",
    "    print(f\"CUDA version: {torch.version.cuda}\")\n",
    "    print(f\"Device count: {torch.cuda.device_count()}\")\n",
    "    print(f\"Current device: {torch.cuda.current_device()}\")\n",
    "    print(f\"Device name: {torch.cuda.get_device_name(torch.cuda.current_device())}\")\n",
    "else:\n",
    "    print(\"CUDA is not available.\")"
   ]
  },
  {
   "cell_type": "code",
   "execution_count": 2,
   "metadata": {},
   "outputs": [
    {
     "name": "stdout",
     "output_type": "stream",
     "text": [
      "Package                     Version\n",
      "--------------------------- -----------\n",
      "albucore                    0.0.11\n",
      "albumentations              1.4.9\n",
      "annotated-types             0.7.0\n",
      "asttokens                   2.4.1\n",
      "certifi                     2024.6.2\n",
      "charset-normalizer          3.3.2\n",
      "colorama                    0.4.6\n",
      "comm                        0.2.2\n",
      "debugpy                     1.8.1\n",
      "decorator                   5.1.1\n",
      "efficientnet_pytorch        0.7.1\n",
      "einops                      0.8.0\n",
      "exceptiongroup              1.2.1\n",
      "executing                   2.0.1\n",
      "filelock                    3.15.3\n",
      "fsspec                      2024.6.0\n",
      "huggingface-hub             0.23.4\n",
      "idna                        3.7\n",
      "imageio                     2.34.1\n",
      "intel-openmp                2021.4.0\n",
      "ipykernel                   6.29.4\n",
      "ipython                     8.25.0\n",
      "jedi                        0.19.1\n",
      "Jinja2                      3.1.4\n",
      "joblib                      1.4.2\n",
      "jupyter_client              8.6.2\n",
      "jupyter_core                5.7.2\n",
      "lazy_loader                 0.4\n",
      "MarkupSafe                  2.1.5\n",
      "matplotlib-inline           0.1.7\n",
      "mkl                         2021.4.0\n",
      "mpmath                      1.3.0\n",
      "munch                       4.0.0\n",
      "nest-asyncio                1.6.0\n",
      "networkx                    3.3\n",
      "numpy                       2.0.0\n",
      "opencv-python               4.10.0.84\n",
      "opencv-python-headless      4.10.0.84\n",
      "packaging                   24.1\n",
      "pandas                      2.2.2\n",
      "parso                       0.8.4\n",
      "pillow                      10.3.0\n",
      "pip                         24.0\n",
      "platformdirs                4.2.2\n",
      "pretrainedmodels            0.7.4\n",
      "prompt_toolkit              3.0.47\n",
      "psutil                      6.0.0\n",
      "pure-eval                   0.2.2\n",
      "pydantic                    2.7.4\n",
      "pydantic_core               2.18.4\n",
      "Pygments                    2.18.0\n",
      "python-dateutil             2.9.0.post0\n",
      "pytz                        2024.1\n",
      "pywin32                     306\n",
      "PyYAML                      6.0.1\n",
      "pyzmq                       26.0.3\n",
      "requests                    2.32.3\n",
      "safetensors                 0.4.3\n",
      "scikit-image                0.24.0\n",
      "scikit-learn                1.5.0\n",
      "scipy                       1.13.1\n",
      "segmentation-models-pytorch 0.3.3\n",
      "setuptools                  58.1.0\n",
      "six                         1.16.0\n",
      "spectral                    0.23.1\n",
      "stack-data                  0.6.3\n",
      "sympy                       1.12.1\n",
      "tbb                         2021.12.0\n",
      "threadpoolctl               3.5.0\n",
      "tifffile                    2024.6.18\n",
      "timm                        0.9.2\n",
      "tomli                       2.0.1\n",
      "torch                       2.3.1\n",
      "torchaudio                  2.3.1\n",
      "torchvision                 0.18.1\n",
      "tornado                     6.4.1\n",
      "tqdm                        4.66.4\n",
      "traitlets                   5.14.3\n",
      "typing_extensions           4.12.2\n",
      "tzdata                      2024.1\n",
      "urllib3                     2.2.2\n",
      "wcwidth                     0.2.13\n",
      "Note: you may need to restart the kernel to use updated packages.\n"
     ]
    }
   ],
   "source": [
    "%pip list\n"
   ]
  },
  {
   "cell_type": "code",
   "execution_count": 5,
   "metadata": {},
   "outputs": [
    {
     "name": "stdout",
     "output_type": "stream",
     "text": [
      "\n",
      "Traceback (most recent call last):\n",
      "\n",
      "  File \"C:\\Users\\maria\\OneDrive\\Documents\\New_Masters_Plan\\New_Models\\Spectr\\SpecTr\\code\\train_main.py\", line 8, in <module>\n",
      "\n",
      "    import torch\n",
      "\n",
      "ModuleNotFoundError: No module named 'torch'\n",
      "\n",
      "\n"
     ]
    }
   ],
   "source": [
    "!python \"C:\\Users\\maria\\OneDrive\\Documents\\New_Masters_Plan\\New_Models\\Spectr\\SpecTr\\code\\running.py\""
   ]
  },
  {
   "cell_type": "code",
   "execution_count": 6,
   "metadata": {},
   "outputs": [
    {
     "name": "stdout",
     "output_type": "stream",
     "text": [
      "Looking in indexes: https://pypi.org/simple, https://download.pytorch.org/whl/cu121\n",
      "Requirement already satisfied: torch in c:\\users\\maria\\myenv2\\lib\\site-packages (2.3.1+cu121)\n",
      "Requirement already satisfied: torchvision in c:\\users\\maria\\myenv2\\lib\\site-packages (0.18.1+cu121)\n",
      "Requirement already satisfied: torchaudio in c:\\users\\maria\\myenv2\\lib\\site-packages (2.3.1+cu121)\n",
      "Requirement already satisfied: filelock in c:\\users\\maria\\myenv2\\lib\\site-packages (from torch) (3.13.1)\n",
      "Requirement already satisfied: typing-extensions>=4.8.0 in c:\\users\\maria\\myenv2\\lib\\site-packages (from torch) (4.9.0)\n",
      "Requirement already satisfied: sympy in c:\\users\\maria\\myenv2\\lib\\site-packages (from torch) (1.12)\n",
      "Requirement already satisfied: networkx in c:\\users\\maria\\myenv2\\lib\\site-packages (from torch) (3.2.1)\n",
      "Requirement already satisfied: jinja2 in c:\\users\\maria\\myenv2\\lib\\site-packages (from torch) (3.1.3)\n",
      "Requirement already satisfied: fsspec in c:\\users\\maria\\myenv2\\lib\\site-packages (from torch) (2024.2.0)\n",
      "Requirement already satisfied: mkl<=2021.4.0,>=2021.1.1 in c:\\users\\maria\\myenv2\\lib\\site-packages (from torch) (2021.4.0)\n",
      "Requirement already satisfied: numpy in c:\\users\\maria\\myenv2\\lib\\site-packages (from torchvision) (1.26.3)\n",
      "Requirement already satisfied: pillow!=8.3.*,>=5.3.0 in c:\\users\\maria\\myenv2\\lib\\site-packages (from torchvision) (10.2.0)\n",
      "Requirement already satisfied: intel-openmp==2021.* in c:\\users\\maria\\myenv2\\lib\\site-packages (from mkl<=2021.4.0,>=2021.1.1->torch) (2021.4.0)\n",
      "Requirement already satisfied: tbb==2021.* in c:\\users\\maria\\myenv2\\lib\\site-packages (from mkl<=2021.4.0,>=2021.1.1->torch) (2021.11.0)\n",
      "Requirement already satisfied: MarkupSafe>=2.0 in c:\\users\\maria\\myenv2\\lib\\site-packages (from jinja2->torch) (2.1.5)\n",
      "Requirement already satisfied: mpmath>=0.19 in c:\\users\\maria\\myenv2\\lib\\site-packages (from sympy->torch) (1.3.0)\n",
      "Note: you may need to restart the kernel to use updated packages.\n"
     ]
    }
   ],
   "source": [
    "%pip install torch torchvision torchaudio --extra-index-url https://download.pytorch.org/whl/cu121\n"
   ]
  },
  {
   "cell_type": "code",
   "execution_count": 7,
   "metadata": {},
   "outputs": [
    {
     "name": "stdout",
     "output_type": "stream",
     "text": [
      "c:\\Users\\maria\\myenv2\\Scripts\\python.exe\n"
     ]
    }
   ],
   "source": [
    "import sys\n",
    "print(sys.executable)"
   ]
  }
 ],
 "metadata": {
  "kernelspec": {
   "display_name": "Python 3",
   "language": "python",
   "name": "python3"
  },
  "language_info": {
   "codemirror_mode": {
    "name": "ipython",
    "version": 3
   },
   "file_extension": ".py",
   "mimetype": "text/x-python",
   "name": "python",
   "nbconvert_exporter": "python",
   "pygments_lexer": "ipython3",
   "version": "3.10.4"
  }
 },
 "nbformat": 4,
 "nbformat_minor": 2
}
